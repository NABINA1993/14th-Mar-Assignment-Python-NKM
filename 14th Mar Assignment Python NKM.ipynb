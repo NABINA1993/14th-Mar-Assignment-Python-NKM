{
 "cells": [
  {
   "cell_type": "markdown",
   "id": "7acd8b80",
   "metadata": {},
   "source": [
    "1. Write a Python function that takes in two arrays of data and calculates the F-value for a variance ratio \n",
    "test. The function should return the F-value and the corresponding p-value for the test."
   ]
  },
  {
   "cell_type": "code",
   "execution_count": 2,
   "id": "c6fddc9d",
   "metadata": {},
   "outputs": [
    {
     "name": "stdout",
     "output_type": "stream",
     "text": [
      "F-value: 4.0\n",
      "p-value: 0.20800000000000005\n"
     ]
    }
   ],
   "source": [
    "import numpy as np\n",
    "from scipy.stats import f\n",
    "arr1 = [1, 2, 3, 4, 5]\n",
    "arr2 = [2, 4, 6, 8, 10]\n",
    "f_value, p_value = variance_ratio_test(arr1, arr2)\n",
    "print(\"F-value:\", f_value)\n",
    "print(\"p-value:\", p_value)\n",
    "def variance_ratio_test(arr1, arr2):\n",
    "    n1, n2 = len(arr1), len(arr2)\n",
    "    var1, var2 = np.var(arr1), np.var(arr2)\n",
    "    f_value = var1 / var2 if var1 > var2 else var2 / var1\n",
    "    p_value = f.sf(f_value, n1-1, n2-1) * 2\n",
    "    return f_value, p_value\n"
   ]
  },
  {
   "cell_type": "markdown",
   "id": "4dc1b5c5",
   "metadata": {},
   "source": [
    "Q2. Given a significance level of 0.05 and the degrees of freedom for the numerator and denominator of an \n",
    "F-distribution, write a Python function that returns the critical F-value for a two-tailed test."
   ]
  },
  {
   "cell_type": "code",
   "execution_count": 5,
   "id": "32de3d49",
   "metadata": {},
   "outputs": [],
   "source": [
    "from scipy.stats import f\n",
    "\n",
    "def critical_f_value(alpha, dfn, dfd):\n",
    "    return f.ppf(1 - alpha / 2, dfn, dfd)\n",
    "\n"
   ]
  },
  {
   "cell_type": "markdown",
   "id": "8f0211f9",
   "metadata": {},
   "source": [
    "Q3. Write a Python program that generates random samples from two normal distributions with known \n",
    "variances and uses an F-test to determine if the variances are equal. The program should output the F\u0002value, degrees of freedom, and p-value for the test."
   ]
  },
  {
   "cell_type": "code",
   "execution_count": 6,
   "id": "18bb7724",
   "metadata": {},
   "outputs": [
    {
     "name": "stdout",
     "output_type": "stream",
     "text": [
      "Sample 1: [ 1.64985349  1.41650932 -0.05837944 -0.56332644  1.31238276 -0.2091549\n",
      "  0.12368079  0.76177524 -1.52377342  0.76347231 -4.12721075  2.03966196\n",
      "  3.60023149 -2.46206598  2.91091945  1.88427013  1.4949103   1.65089259\n",
      " -0.68512165 -4.25181809]\n",
      "Sample 2: [ 2.55430937e-01  1.95063083e+00 -3.02187384e-03 -2.52091602e+00\n",
      "  4.77114771e-01  1.40791419e+00 -1.86218935e+00 -1.01179287e+00\n",
      " -2.86264451e+00  2.97293736e+00  2.35274549e+00 -8.22211273e-02\n",
      "  3.45230404e+00 -1.01269653e+00  3.56003254e+00  1.32824250e-01\n",
      " -8.08123280e-01 -1.37828023e+00 -6.06722954e-01  3.82460652e+00]\n",
      "F-value: 1.0647206877692887\n",
      "Degrees of freedom: 19 and 19\n",
      "p-value: 0.8927051587894171\n"
     ]
    }
   ],
   "source": [
    "import numpy as np\n",
    "from scipy.stats import f\n",
    "\n",
    "# Set the parameters for the two normal distributions\n",
    "mu1, mu2 = 0, 0\n",
    "var1, var2 = 4, 4  # Known variances\n",
    "\n",
    "# Generate random samples from the two normal distributions\n",
    "n1, n2 = 20, 20  # Sample sizes\n",
    "sample1 = np.random.normal(mu1, np.sqrt(var1), n1)\n",
    "sample2 = np.random.normal(mu2, np.sqrt(var2), n2)\n",
    "\n",
    "# Calculate the F-value, degrees of freedom, and p-value for the test\n",
    "dfn, dfd = n1-1, n2-1\n",
    "f_value = np.var(sample1) / np.var(sample2) if np.var(sample1) > np.var(sample2) else np.var(sample2) / np.var(sample1)\n",
    "p_value = f.sf(f_value, dfn, dfd) * 2\n",
    "\n",
    "# Print the results\n",
    "print(\"Sample 1:\", sample1)\n",
    "print(\"Sample 2:\", sample2)\n",
    "print(\"F-value:\", f_value)\n",
    "print(\"Degrees of freedom:\", dfn, \"and\", dfd)\n",
    "print(\"p-value:\", p_value)\n"
   ]
  },
  {
   "cell_type": "markdown",
   "id": "6d893876",
   "metadata": {},
   "source": [
    "Q4.The variances of two populations are known to be 10 and 15. A sample of 12 observations is taken from \n",
    "each population. Conduct an F-test at the 5% significance level to determine if the variances are \n",
    "significantly different."
   ]
  },
  {
   "cell_type": "code",
   "execution_count": 7,
   "id": "0d069542",
   "metadata": {},
   "outputs": [
    {
     "name": "stdout",
     "output_type": "stream",
     "text": [
      "Fail to reject null hypothesis. Variances are not significantly different.\n"
     ]
    }
   ],
   "source": [
    "alpha = 0.05\n",
    "import numpy as np\n",
    "\n",
    "s1_squared = 10\n",
    "s2_squared = 15\n",
    "n1 = 12\n",
    "n2 = 12\n",
    "\n",
    "f_value = s1_squared / s2_squared\n",
    "dfn = n1 - 1\n",
    "dfd = n2 - 1\n",
    "from scipy.stats import f\n",
    "\n",
    "p_value = f.sf(f_value, dfn, dfd) * 2\n",
    "if p_value < alpha:\n",
    "    print(\"Reject null hypothesis. Variances are significantly different.\")\n",
    "else:\n",
    "    print(\"Fail to reject null hypothesis. Variances are not significantly different.\")\n"
   ]
  },
  {
   "cell_type": "markdown",
   "id": "f1866a38",
   "metadata": {},
   "source": [
    "Q5. A manufacturer claims that the variance of the diameter of a certain product is 0.005. A sample of 25 \n",
    "products is taken, and the sample variance is found to be 0.006. Conduct an F-test at the 1% significance \n",
    "level to determine if the claim is justified."
   ]
  },
  {
   "cell_type": "code",
   "execution_count": 8,
   "id": "cae2595e",
   "metadata": {},
   "outputs": [
    {
     "name": "stdout",
     "output_type": "stream",
     "text": [
      "Fail to reject null hypothesis. Claim is justified.\n"
     ]
    }
   ],
   "source": [
    "alpha = 0.01\n",
    "s_squared = 0.006\n",
    "sigma_squared = 0.005\n",
    "n = 25\n",
    "\n",
    "f_value = s_squared / sigma_squared\n",
    "dfn = n - 1\n",
    "dfd = np.inf\n",
    "p_value = f.sf(f_value, dfn, dfd)\n",
    "if p_value < alpha:\n",
    "    print(\"Reject null hypothesis. Claim is not justified.\")\n",
    "else:\n",
    "    print(\"Fail to reject null hypothesis. Claim is justified.\")\n"
   ]
  },
  {
   "cell_type": "markdown",
   "id": "55bb4d95",
   "metadata": {},
   "source": [
    "Q6. Write a Python function that takes in the degrees of freedom for the numerator and denominator of an \n",
    "F-distribution and calculates the mean and variance of the distribution. The function should return the \n",
    "mean and variance as a tuple."
   ]
  },
  {
   "cell_type": "code",
   "execution_count": 12,
   "id": "56f9a878",
   "metadata": {},
   "outputs": [
    {
     "name": "stdout",
     "output_type": "stream",
     "text": [
      "Mean: 1.25\n",
      "Variance: 1.3541666666666667\n"
     ]
    }
   ],
   "source": [
    "\n",
    "def f_distribution_mean_variance(df_num, df_den):\n",
    "    mean = df_den / (df_den - 2)\n",
    "    variance = 2 * (df_den ** 2) * (df_num + df_den - 2) / (df_num * (df_den - 2) ** 2 * (df_den - 4))\n",
    "    return mean, variance\n",
    "df_num = 5\n",
    "df_den = 10\n",
    "\n",
    "mean, variance = f_distribution_mean_variance(df_num, df_den)\n",
    "\n",
    "print(\"Mean:\", mean)\n",
    "print(\"Variance:\", variance)\n"
   ]
  },
  {
   "cell_type": "markdown",
   "id": "20d664ad",
   "metadata": {},
   "source": [
    "Q7. A random sample of 10 measurements is taken from a normal population with unknown variance. The \n",
    "sample variance is found to be 25. Another random sample of 15 measurements is taken from another \n",
    "normal population with unknown variance, and the sample variance is found to be 20. Conduct an F-test \n",
    "at the 10% significance level to determine if the variances are significantly different."
   ]
  },
  {
   "cell_type": "code",
   "execution_count": 13,
   "id": "fb6d9269",
   "metadata": {},
   "outputs": [
    {
     "name": "stdout",
     "output_type": "stream",
     "text": [
      "Fail to reject the null hypothesis, there is not enough evidence to suggest that the variances are significantly different.\n",
      "F-value: 1.25\n",
      "Degrees of freedom: 9 14\n",
      "p-value: 0.6832194382585952\n"
     ]
    }
   ],
   "source": [
    "import scipy.stats as stats\n",
    "\n",
    "# Sample variances\n",
    "s1_squared = 25\n",
    "s2_squared = 20\n",
    "\n",
    "# Sample sizes\n",
    "n1 = 10\n",
    "n2 = 15\n",
    "\n",
    "# Calculate the F-statistic\n",
    "F = s1_squared / s2_squared\n",
    "\n",
    "# Degrees of freedom\n",
    "df1 = n1 - 1\n",
    "df2 = n2 - 1\n",
    "\n",
    "# Calculate the p-value\n",
    "p_value = 2 * (1 - stats.f.cdf(F, df1, df2))\n",
    "\n",
    "# Significance level\n",
    "alpha = 0.10\n",
    "\n",
    "# Find the critical F-value\n",
    "critical_F = stats.f.ppf(1 - alpha / 2, df1, df2)\n",
    "\n",
    "# Compare the calculated F-value with the critical F-value\n",
    "if F > critical_F:\n",
    "    print(\"Reject the null hypothesis, the variances are significantly different.\")\n",
    "else:\n",
    "    print(\"Fail to reject the null hypothesis, there is not enough evidence to suggest that the variances are significantly different.\")\n",
    "    \n",
    "# Output the F-value, degrees of freedom, and p-value\n",
    "print(\"F-value:\", F)\n",
    "print(\"Degrees of freedom:\", df1, df2)\n",
    "print(\"p-value:\", p_value)\n"
   ]
  },
  {
   "cell_type": "markdown",
   "id": "974a118a",
   "metadata": {},
   "source": [
    "Q8. The following data represent the waiting times in minutes at two different restaurants on a Saturday \n",
    "night: Restaurant A: 24, 25, 28, 23, 22, 20, 27; Restaurant B: 31, 33, 35, 30, 32, 36. Conduct an F-test at the 5% \n",
    "significance level to determine if the variances are significantly different."
   ]
  },
  {
   "cell_type": "code",
   "execution_count": 14,
   "id": "508e5b8c",
   "metadata": {},
   "outputs": [
    {
     "name": "stdout",
     "output_type": "stream",
     "text": [
      "Fail to reject the null hypothesis, there is not enough evidence to suggest that the variances are significantly different.\n",
      "F-value: 1.4551907719609583\n",
      "Degrees of freedom: 6 5\n",
      "p-value: 0.6974815747937484\n"
     ]
    }
   ],
   "source": [
    "import numpy as np\n",
    "import scipy.stats as stats\n",
    "\n",
    "# Waiting times at restaurant A\n",
    "a = np.array([24, 25, 28, 23, 22, 20, 27])\n",
    "\n",
    "# Waiting times at restaurant B\n",
    "b = np.array([31, 33, 35, 30, 32, 36])\n",
    "\n",
    "# Sample variances\n",
    "s_a_squared = np.var(a, ddof=1)\n",
    "s_b_squared = np.var(b, ddof=1)\n",
    "\n",
    "# Sample sizes\n",
    "n_a = len(a)\n",
    "n_b = len(b)\n",
    "\n",
    "# Calculate the F-statistic\n",
    "F = s_a_squared / s_b_squared\n",
    "\n",
    "# Degrees of freedom\n",
    "df1 = n_a - 1\n",
    "df2 = n_b - 1\n",
    "\n",
    "# Calculate the p-value\n",
    "p_value = 2 * (1 - stats.f.cdf(F, df1, df2))\n",
    "\n",
    "# Significance level\n",
    "alpha = 0.05\n",
    "\n",
    "# Find the critical F-value\n",
    "critical_F = stats.f.ppf(1 - alpha / 2, df1, df2)\n",
    "\n",
    "# Compare the calculated F-value with the critical F-value\n",
    "if F > critical_F:\n",
    "    print(\"Reject the null hypothesis, the variances are significantly different.\")\n",
    "else:\n",
    "    print(\"Fail to reject the null hypothesis, there is not enough evidence to suggest that the variances are significantly different.\")\n",
    "    \n",
    "# Output the F-value, degrees of freedom, and p-value\n",
    "print(\"F-value:\", F)\n",
    "print(\"Degrees of freedom:\", df1, df2)\n",
    "print(\"p-value:\", p_value)\n"
   ]
  },
  {
   "cell_type": "markdown",
   "id": "b1599eaf",
   "metadata": {},
   "source": [
    "Q9. The following data represent the test scores of two groups of students: Group A: 80, 85, 90, 92, 87, 83; \n",
    "Group B: 75, 78, 82, 79, 81, 84. Conduct an F-test at the 1% significance level to determine if the variances \n",
    "are significantly different."
   ]
  },
  {
   "cell_type": "code",
   "execution_count": 15,
   "id": "7a3c30eb",
   "metadata": {},
   "outputs": [
    {
     "name": "stdout",
     "output_type": "stream",
     "text": [
      "Fail to reject the null hypothesis, there is not enough evidence to suggest that the variances are significantly different.\n",
      "F-value: 1.9442622950819677\n",
      "Degrees of freedom: 5 5\n",
      "p-value: 0.4831043549070688\n"
     ]
    }
   ],
   "source": [
    "import numpy as np\n",
    "import scipy.stats as stats\n",
    "\n",
    "# Test scores for group A\n",
    "a = np.array([80, 85, 90, 92, 87, 83])\n",
    "\n",
    "# Test scores for group B\n",
    "b = np.array([75, 78, 82, 79, 81, 84])\n",
    "\n",
    "# Sample variances\n",
    "s_a_squared = np.var(a, ddof=1)\n",
    "s_b_squared = np.var(b, ddof=1)\n",
    "\n",
    "# Sample sizes\n",
    "n_a = len(a)\n",
    "n_b = len(b)\n",
    "\n",
    "# Calculate the F-statistic\n",
    "F = s_a_squared / s_b_squared\n",
    "\n",
    "# Degrees of freedom\n",
    "df1 = n_a - 1\n",
    "df2 = n_b - 1\n",
    "\n",
    "# Calculate the p-value\n",
    "p_value = 2 * (1 - stats.f.cdf(F, df1, df2))\n",
    "\n",
    "# Significance level\n",
    "alpha = 0.01\n",
    "\n",
    "# Find the critical F-value\n",
    "critical_F = stats.f.ppf(1 - alpha / 2, df1, df2)\n",
    "\n",
    "# Compare the calculated F-value with the critical F-value\n",
    "if F > critical_F:\n",
    "    print(\"Reject the null hypothesis, the variances are significantly different.\")\n",
    "else:\n",
    "    print(\"Fail to reject the null hypothesis, there is not enough evidence to suggest that the variances are significantly different.\")\n",
    "    \n",
    "# Output the F-value, degrees of freedom, and p-value\n",
    "print(\"F-value:\", F)\n",
    "print(\"Degrees of freedom:\", df1, df2)\n",
    "print(\"p-value:\", p_value)\n"
   ]
  },
  {
   "cell_type": "code",
   "execution_count": null,
   "id": "b683c210",
   "metadata": {},
   "outputs": [],
   "source": []
  }
 ],
 "metadata": {
  "kernelspec": {
   "display_name": "Python 3 (ipykernel)",
   "language": "python",
   "name": "python3"
  },
  "language_info": {
   "codemirror_mode": {
    "name": "ipython",
    "version": 3
   },
   "file_extension": ".py",
   "mimetype": "text/x-python",
   "name": "python",
   "nbconvert_exporter": "python",
   "pygments_lexer": "ipython3",
   "version": "3.10.5"
  }
 },
 "nbformat": 4,
 "nbformat_minor": 5
}
